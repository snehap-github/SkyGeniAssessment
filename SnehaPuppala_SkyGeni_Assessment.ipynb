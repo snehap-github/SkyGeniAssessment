{
  "metadata": {
    "kernelspec": {
      "name": "python",
      "display_name": "Python (Pyodide)",
      "language": "python"
    },
    "language_info": {
      "codemirror_mode": {
        "name": "python",
        "version": 3
      },
      "file_extension": ".py",
      "mimetype": "text/x-python",
      "name": "python",
      "nbconvert_exporter": "python",
      "pygments_lexer": "ipython3",
      "version": "3.8"
    },
    "colab": {
      "provenance": []
    }
  },
  "nbformat_minor": 4,
  "nbformat": 4,
  "cells": [
    {
      "cell_type": "markdown",
      "source": "# **Sky Geni Assessment**\n## **Name: Sneha Puppala**\n## **Email: snehapuppala1999@gmail.com**",
      "metadata": {
        "id": "6E4FxoAltoUq"
      }
    },
    {
      "cell_type": "code",
      "source": "# import necessary libraries\nimport pandas as pd",
      "metadata": {
        "id": "Jgnviz4CEr-p",
        "trusted": true
      },
      "outputs": [],
      "execution_count": 1
    },
    {
      "cell_type": "code",
      "source": "# import the datasets into pandas dataframes\nfinanical_df = pd.read_csv(\"finanical_information.csv\")\nclient_df = pd.read_csv(\"industry_client_details.csv\")\npayment_df = pd.read_csv(\"payment_information.csv\")\nsubscription_df = pd.read_csv(\"subscription_information.csv\")",
      "metadata": {
        "id": "CgCR1rXsL0Z-",
        "trusted": true
      },
      "outputs": [],
      "execution_count": 2
    },
    {
      "cell_type": "markdown",
      "source": "## **1. How many finance lending and blockchain clients does the organization have?**",
      "metadata": {
        "id": "PlAEzZgmNPiE"
      }
    },
    {
      "cell_type": "code",
      "source": "# Remove duplicate client IDs if any\nif not client_df['client_id'].is_unique:\n  client_df = client_df.drop_duplicates(subset='client_id')\n\n# Count clients per industry\nindustry_counts = client_df['industry'].value_counts()\n# Get Finance Lending client count\nfinance_lending_clients = industry_counts.get('Finance Lending', 0)\n# Get Block Chain client count\nblockchain_clients = industry_counts.get('Block Chain', 0)\n\nprint(\"Number of Finance Lending clients:\", finance_lending_clients)\nprint(\"Number of Block Chain clients:\", blockchain_clients)\nprint(\"Number of finance Lending and Block Chain clients:\", (finance_lending_clients + blockchain_clients))",
      "metadata": {
        "colab": {
          "base_uri": "https://localhost:8080/"
        },
        "id": "6yzC3XqFN96L",
        "outputId": "bf5c9c35-7410-4d2b-80a6-8429fade21eb",
        "trusted": true
      },
      "outputs": [
        {
          "name": "stdout",
          "output_type": "stream",
          "text": "Number of Finance Lending clients: 22\nNumber of Block Chain clients: 25\nNumber of finance Lending and Block Chain clients: 47\n"
        }
      ],
      "execution_count": 3
    },
    {
      "cell_type": "markdown",
      "source": "## **2. Which industry in the organization has the highest renewal rate?**",
      "metadata": {
        "id": "ObWJDTrWNM2h"
      }
    },
    {
      "cell_type": "code",
      "source": "# Merge subscription and client data based on client ID\nclient_subscription_df = pd.merge(subscription_df, client_df, on='client_id')\n\n# Calculate Renewal rate for each industry\nrenewal_rate_by_industry = client_subscription_df.groupby('industry')['renewed'].mean()\n\n# Find industry with highest renewal rate\nhighest_renewal_industry = renewal_rate_by_industry.idxmax()\nhighest_renewal_rate = renewal_rate_by_industry.max()\n\nprint(f\"Industry with highest renewal rate: {highest_renewal_industry} with {highest_renewal_rate:.2%}\")",
      "metadata": {
        "colab": {
          "base_uri": "https://localhost:8080/"
        },
        "id": "6kxqXqoJNgqJ",
        "outputId": "55122083-a8da-4bfb-eca5-9c8ec5a2eecd",
        "trusted": true
      },
      "outputs": [
        {
          "name": "stdout",
          "output_type": "stream",
          "text": "Industry with highest renewal rate: Gaming with 72.73%\n"
        }
      ],
      "execution_count": 4
    },
    {
      "cell_type": "markdown",
      "source": "## **3. What was the average inflation rate when their subscriptions were renewed?**",
      "metadata": {
        "id": "8aT-s0JiNaMY"
      }
    },
    {
      "cell_type": "code",
      "source": "# Convert date columns to datetime for date comparison\nsubscription_df['start_date'] = pd.to_datetime(subscription_df['start_date'])\nfinanical_df['start_date'] = pd.to_datetime(finanical_df['start_date'])\nfinanical_df['end_date'] = pd.to_datetime(finanical_df['end_date'])\n\n# Filter for renewed subscriptions only\nrenewed_subscriptions = subscription_df[subscription_df['renewed']]\n\n# Find inflation rate in the time period for each renewed subscription\ndef find_inflation_rate(start_date):\n    period = finanical_df[(finanical_df['start_date'] <= start_date) & (finanical_df['end_date'] >= start_date)]\n    if not period.empty:\n        return period['inflation_rate'].values[0]\n    return None\n\n# Apply the function to get the inflation rate for each renewed subscription\nrenewed_subscriptions = renewed_subscriptions.assign(\n    inflation_rate = renewed_subscriptions['start_date'].apply(find_inflation_rate)\n    )\n\n# Calculate average inflation rate\naverage_inflation_rate = renewed_subscriptions['inflation_rate'].mean()\n\nprint(f\"Average Inflation Rate for Renewed Subscriptions: {average_inflation_rate:.2f}\")",
      "metadata": {
        "colab": {
          "base_uri": "https://localhost:8080/"
        },
        "id": "rlnM2X2RNhcS",
        "outputId": "efe9edf0-8d4f-4f76-e72f-c0190c7a6fee",
        "trusted": true
      },
      "outputs": [
        {
          "name": "stdout",
          "output_type": "stream",
          "text": "Average Inflation Rate for Renewed Subscriptions: 4.44\n"
        }
      ],
      "execution_count": 5
    },
    {
      "cell_type": "markdown",
      "source": "## **4. What is the median amount paid each year for all payment methods?**",
      "metadata": {
        "id": "oSEp_ailNd8Q"
      }
    },
    {
      "cell_type": "code",
      "source": "# Extract year from payment date\npayment_df['payment_year'] = pd.to_datetime(payment_df['payment_date']).dt.year\n\n# Calculate  median amount paid for each payment method per year\nmedian_amounts_payment_merthod_per_year = payment_df.groupby(['payment_year', 'payment_method'])['amount_paid'].median()\nprint(\"Median Amounts Paid Each Year by Payment Method:\")\nprint(median_amounts_payment_merthod_per_year)\n\n# Calculate median amount paid per year for all payment methods\nprint(\"Median Amounts Paid Each Year:\")\nmedian_amounts_per_year = payment_df.groupby(['payment_year'])['amount_paid'].median()\nprint(median_amounts_per_year)",
      "metadata": {
        "colab": {
          "base_uri": "https://localhost:8080/"
        },
        "id": "7wsWUz3pTJKA",
        "outputId": "87a1f825-37da-42ea-b77c-19f945218586",
        "trusted": true
      },
      "outputs": [
        {
          "name": "stdout",
          "output_type": "stream",
          "text": "Median Amounts Paid Each Year by Payment Method:\npayment_year  payment_method\n2018          Bank Transfer     281.65\n              Check             216.60\n              Credit Card       229.15\n2019          Bank Transfer     184.20\n              Check             410.20\n              Credit Card       401.90\n2020          Bank Transfer     225.10\n              Check             413.10\n              Credit Card       285.25\n2021          Bank Transfer     255.30\n              Check             435.10\n              Credit Card       208.70\n2022          Bank Transfer     196.50\n              Check             275.50\n              Credit Card       326.20\nName: amount_paid, dtype: float64\nMedian Amounts Paid Each Year:\npayment_year\n2018    235.7\n2019    360.9\n2020    284.5\n2021    306.8\n2022    288.0\nName: amount_paid, dtype: float64\n"
        }
      ],
      "execution_count": 6
    }
  ]
}